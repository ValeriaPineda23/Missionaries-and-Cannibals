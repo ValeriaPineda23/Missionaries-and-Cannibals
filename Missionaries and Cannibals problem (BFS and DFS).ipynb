{
 "cells": [
  {
   "cell_type": "markdown",
   "id": "ccb59109",
   "metadata": {},
   "source": [
    "# Missionaries and Cannibals problem"
   ]
  },
  {
   "cell_type": "markdown",
   "id": "b594af69",
   "metadata": {},
   "source": [
    "**Question**: In the missionaries and cannibals problem, three missionaries and three cannibals must cross a river using a boat which can carry at most two people, under the constraint that, for both banks, if there are missionaries present on the bank, they cannot be outnumbered by cannibals (if they were, the cannibals would eat the missionaries). The boat cannot cross the river by itself with no people on board."
   ]
  },
  {
   "cell_type": "markdown",
   "id": "eb6f159f",
   "metadata": {},
   "source": [
    "## Define Movements"
   ]
  },
  {
   "cell_type": "code",
   "execution_count": 2,
   "id": "57ea65ff",
   "metadata": {},
   "outputs": [],
   "source": [
    "def move1M(state): # Move 1 missionarie\n",
    "    if (state[0] >= 1 and state[2] == 1): \n",
    "        successor = (state[0]-1, state[1],0) \n",
    "        if ((successor[0]>0 and successor[0] < successor[1]) or (successor[0]<3 and 3-successor[0] < (3-successor[1]))): \n",
    "            successor = None \n",
    "            return successor\n",
    "        return successor\n",
    "\n",
    "    elif (state[0] <= 2 and state[2] == 0): \n",
    "        successor = (state[0]+1, state[1],1) \n",
    "        if ((successor[0]>0 and successor[0] < successor[1]) or (successor[0]<3 and 3-successor[0] < (3-successor[1]))): \n",
    "            return successor\n",
    "        return successor\n",
    "\n",
    "def move2M(state): # Move 2 missionaries\n",
    "    if (state[0] >= 2 and state[2] == 1): \n",
    "        successor = (state[0]-2, state[1],0) \n",
    "        if ((successor[0]>0 and successor[0] < successor[1])  or (successor[0]<3 and 3-successor[0] < (3-successor[1]))): \n",
    "            successor = None \n",
    "            return successor\n",
    "        return successor\n",
    "\n",
    "    elif (state[0] <= 1 and state[2] == 0 ):  \n",
    "        successor = (state[0]+2, state[1],1) \n",
    "        if ((successor[0]>0 and successor[0] < successor[1])  or (successor[0]<3 and 3-successor[0] < (3-successor[1]))): \n",
    "            successor = None \n",
    "            return successor\n",
    "        return successor\n",
    "\n",
    "def move1C(state): # Move 1 cannibal\n",
    "    if (state[1] >= 1 and state[2] == 1): \n",
    "        successor = (state[0], state[1]-1,0) \n",
    "        if ((successor[0]>0 and successor[0] < successor[1])  or (successor[0]<3 and 3-successor[0] < (3-successor[1]))): \n",
    "            successor = None \n",
    "            return successor\n",
    "        return successor\n",
    "\n",
    "    elif (state[1] <= 2 and state[2] == 0): \n",
    "        successor = (state[0], state[1]+1,1) \n",
    "        if ((successor[0]>0 and successor[0] < successor[1])  or (successor[0]<3 and 3-successor[0] < (3-successor[1]))): \n",
    "            successor = None \n",
    "            return successor\n",
    "        return successor\n",
    "\n",
    "def move2C(state): # Move 2 cannibals\n",
    "    if (state[1] >= 2 and state[2] == 1): \n",
    "        successor = (state[0], state[1]-2,0) \n",
    "        if ((successor[0]>0 and successor[0] < successor[1])   or (successor[0]<3 and 3-successor[0] < (3-successor[1]))): \n",
    "            successor = None \n",
    "            return successor\n",
    "        return successor\n",
    "\n",
    "    elif (state[1] <= 1 and state[2] == 0): \n",
    "        successor = (state[0], state[1]+2,1) \n",
    "        if ((successor[0]>0 and successor[0] < successor[1])  or (successor[0]<3 and 3-successor[0] < (3-successor[1]))): \n",
    "            successor = None \n",
    "            return successor\n",
    "        return successor\n",
    "\n",
    "\n",
    "def move1M1C(state): # Move 1 missionarie and 1 cannibal\n",
    "    if (state[0] >=1 and state[1] >=1 and state[2] == 1): \n",
    "        successor = (state[0]-1,state[1]-1,0) \n",
    "        if ((successor[0]>0 and successor[0] < successor[1])  or (successor[0]<3 and 3-successor[0] < (3-successor[1]))): \n",
    "            successor = None \n",
    "            return successor\n",
    "        return successor\n",
    "\n",
    "    elif (state[0] <= 2 and state[1] <= 2 and state[2] == 0): \n",
    "        successor = (state[0]+1,state[1]+1,1) \n",
    "        if ((successor[0]>0 and successor[0] < successor[1])  or (successor[0]<3 and 3-successor[0] < (3-successor[1]))): \n",
    "            successor = None \n",
    "            return successor\n",
    "        return successor"
   ]
  },
  {
   "cell_type": "markdown",
   "id": "b3f580c3",
   "metadata": {},
   "source": [
    "## FORMAT() Function"
   ]
  },
  {
   "cell_type": "code",
   "execution_count": 3,
   "id": "2dd0ebe4",
   "metadata": {},
   "outputs": [],
   "source": [
    "def format(parent,explored,solution,move):\n",
    "  if (parent!= None):\n",
    "    for node in explored:\n",
    "      if (node[0] == parent):\n",
    "        if move==0:\n",
    "          a=\"1M\"\n",
    "        if move==1:\n",
    "          a=\"2M\"\n",
    "        if move==2:\n",
    "          a=\"1C\"\n",
    "        if move==3:\n",
    "          a=\"2C\"\n",
    "        if move==4:\n",
    "          a=\"1M1C\"\n",
    "        return format(node[1],explored,str(parent)+\"->\"+a+\"->\"+str(solution),node[2])\n",
    "  return solution"
   ]
  },
  {
   "cell_type": "markdown",
   "id": "bc860a2a",
   "metadata": {},
   "source": [
    "# BFS\n",
    "#### Add function for BFS"
   ]
  },
  {
   "cell_type": "code",
   "execution_count": 4,
   "id": "5e9235aa",
   "metadata": {},
   "outputs": [],
   "source": [
    "def addbfs(successor,frontier,explored):\n",
    "  new=True\n",
    "  for node in frontier:\n",
    "    if node[0]==successor[0]:\n",
    "      new=False\n",
    "  if (new):\n",
    "    for node in explored:\n",
    "      if node[0]==successor[0]:\n",
    "        new=False\n",
    "  if (new):\n",
    "    frontier.append(successor)\n",
    "  return frontier"
   ]
  },
  {
   "cell_type": "markdown",
   "id": "4312b92a",
   "metadata": {},
   "source": [
    "#### BFS function"
   ]
  },
  {
   "cell_type": "code",
   "execution_count": 5,
   "id": "c51342b5",
   "metadata": {},
   "outputs": [],
   "source": [
    "def bfs(frontier,explored,goal):\n",
    "    while (frontier): \n",
    "        node = frontier.pop(0) \n",
    "        explored.append(node) \n",
    "        \n",
    "        fun = [move1M(node[0]), move2M(node[0]), move1C(node[0]), move2C(node[0]), move1M1C(node[0])] \n",
    "        cost= [1,1,1,1,1]\n",
    "        \n",
    "        for f in range(len(fun)):\n",
    "          if fun[f]!= None:\n",
    "            successor = (fun[f],node[0],f,node[3]+cost[f]) \n",
    "            if (goal==fun[f]): \n",
    "              print(\"Path:\",format(node[0],explored,successor[0],successor[2])) \n",
    "              print(\"Total cost:\",successor[3],\"movements.\") \n",
    "              return True    \n",
    "            frontier=addbfs(successor,frontier,explored)\n",
    "    return False \n"
   ]
  },
  {
   "cell_type": "markdown",
   "id": "f8806c8b",
   "metadata": {},
   "source": [
    "# DFS\n",
    "#### Add function for DFS"
   ]
  },
  {
   "cell_type": "code",
   "execution_count": 6,
   "id": "e297ed41",
   "metadata": {},
   "outputs": [],
   "source": [
    "def adddfs(successor,frontier,explored):\n",
    "  new=True\n",
    "  for node in frontier:\n",
    "    if node[0]==successor[0]:\n",
    "      new=False\n",
    "  if (new):\n",
    "    for node in explored:\n",
    "      if node[0]==successor[0]:\n",
    "        new=False\n",
    "  if (new):\n",
    "    frontier.insert(0,successor) \n",
    "  return frontier"
   ]
  },
  {
   "cell_type": "markdown",
   "id": "56c68adb",
   "metadata": {},
   "source": [
    "#### DFS function"
   ]
  },
  {
   "cell_type": "code",
   "execution_count": 8,
   "id": "abd16613",
   "metadata": {},
   "outputs": [],
   "source": [
    "def dfs(frontier,explored,goal):\n",
    "    while (frontier): #if frontier has at least one element\n",
    "        node = frontier.pop(0) #extract first node from the frontier list\n",
    "        explored.append(node) #add node to explored list\n",
    "        fun = [move1M(node[0]), move2M(node[0]), move1C(node[0]), move2C(node[0]), move1M1C(node[0])] \n",
    "        cost=[1,1,1,1,1]\n",
    "        for f in range(len(fun)):\n",
    "          if fun[f]!= None:\n",
    "            successor = (fun[f],node[0],f,node[3]+cost[f]) \n",
    "            if (goal==fun[f]): #If I reach the goal state, print solution and end program\n",
    "              print(\"Path:\",format(node[0],explored,successor[0],successor[2])) #Print path\n",
    "              print(\"Total cost:\",successor[3],\"movements.\") #Print cost\n",
    "              return True    \n",
    "            frontier=adddfs(successor,frontier,explored)\n",
    "    return False "
   ]
  },
  {
   "cell_type": "markdown",
   "id": "71983e2d",
   "metadata": {},
   "source": [
    "# Results for DFS & BFS"
   ]
  },
  {
   "cell_type": "markdown",
   "id": "5058446e",
   "metadata": {},
   "source": [
    "### BFS"
   ]
  },
  {
   "cell_type": "code",
   "execution_count": 9,
   "id": "de10867c",
   "metadata": {},
   "outputs": [
    {
     "name": "stdout",
     "output_type": "stream",
     "text": [
      "BFS result is: \n",
      "Path: (3, 3, 1)->2C->(3, 1, 0)->1C->(3, 2, 1)->2C->(3, 0, 0)->1C->(3, 1, 1)->2M->(1, 1, 0)->1M1C->(2, 2, 1)->2M->(0, 2, 0)->1C->(0, 3, 1)->2C->(0, 1, 0)->1M->(1, 1, 1)->1M1C->(0, 0, 0)\n",
      "Total cost: 11 movements.\n"
     ]
    },
    {
     "data": {
      "text/plain": [
       "True"
      ]
     },
     "execution_count": 9,
     "metadata": {},
     "output_type": "execute_result"
    }
   ],
   "source": [
    "state =(3,3,1) #initial state\n",
    "goal=(0,0,0) #goal state\n",
    "\n",
    "frontier=[(state,\"None\",\"None\",0)] #State, parent, movement, cost\n",
    "explored=[]\n",
    "\n",
    "print(\"BFS result is: \")\n",
    "bfs(frontier, explored,goal)"
   ]
  },
  {
   "cell_type": "markdown",
   "id": "729656c9",
   "metadata": {},
   "source": [
    "### DFS"
   ]
  },
  {
   "cell_type": "code",
   "execution_count": 10,
   "id": "296070e8",
   "metadata": {},
   "outputs": [
    {
     "name": "stdout",
     "output_type": "stream",
     "text": [
      "DFS result is: \n",
      "Path: (3, 3, 1)->1M1C->(2, 2, 0)->1M->(3, 2, 1)->2C->(3, 0, 0)->1C->(3, 1, 1)->2M->(1, 1, 0)->1M1C->(2, 2, 1)->2M->(0, 2, 0)->1C->(0, 3, 1)->2C->(0, 1, 0)->1C->(0, 2, 1)->2C->(0, 0, 0)\n",
      "Total cost: 11 movements.\n"
     ]
    },
    {
     "data": {
      "text/plain": [
       "True"
      ]
     },
     "execution_count": 10,
     "metadata": {},
     "output_type": "execute_result"
    }
   ],
   "source": [
    "state =(3,3,1) #initial state\n",
    "goal=(0,0,0) #goal state\n",
    "\n",
    "frontier=[(state,\"None\",\"None\",0)] #State, parent, movement, cost\n",
    "explored=[]\n",
    "\n",
    "print(\"DFS result is: \")\n",
    "dfs(frontier, explored,goal)"
   ]
  }
 ],
 "metadata": {
  "kernelspec": {
   "display_name": "Python 3",
   "language": "python",
   "name": "python3"
  },
  "language_info": {
   "codemirror_mode": {
    "name": "ipython",
    "version": 3
   },
   "file_extension": ".py",
   "mimetype": "text/x-python",
   "name": "python",
   "nbconvert_exporter": "python",
   "pygments_lexer": "ipython3",
   "version": "3.8.3"
  }
 },
 "nbformat": 4,
 "nbformat_minor": 5
}
